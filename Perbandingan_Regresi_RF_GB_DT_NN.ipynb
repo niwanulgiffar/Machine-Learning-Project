{
  "nbformat": 4,
  "nbformat_minor": 0,
  "metadata": {
    "colab": {
      "provenance": [],
      "authorship_tag": "ABX9TyMGWNGbM2wo03jasNh1hFq8",
      "include_colab_link": true
    },
    "kernelspec": {
      "name": "python3",
      "display_name": "Python 3"
    },
    "language_info": {
      "name": "python"
    }
  },
  "cells": [
    {
      "cell_type": "markdown",
      "metadata": {
        "id": "view-in-github",
        "colab_type": "text"
      },
      "source": [
        "<a href=\"https://colab.research.google.com/github/niwanulgiffar/Machine-Learning-Project/blob/main/Perbandingan_Regresi_RF_GB_DT_NN.ipynb\" target=\"_parent\"><img src=\"https://colab.research.google.com/assets/colab-badge.svg\" alt=\"Open In Colab\"/></a>"
      ]
    },
    {
      "cell_type": "markdown",
      "source": [
        "#***Perbandingan Akurasi Pemodelan Regresi Beberapa Algoritma***"
      ],
      "metadata": {
        "id": "mx8R1WLhKhU8"
      }
    },
    {
      "cell_type": "code",
      "execution_count": null,
      "metadata": {
        "id": "A-5DyLBJXRbr"
      },
      "outputs": [],
      "source": [
        "#import library \n",
        "import numpy as np\n",
        "import csv\n",
        "import pandas as pd\n",
        "import seaborn as sns\n",
        "import matplotlib.pyplot as plt\n",
        "import matplotlib"
      ]
    },
    {
      "cell_type": "code",
      "source": [
        "from google.colab import drive\n",
        "drive.mount('/content/drive')\n"
      ],
      "metadata": {
        "colab": {
          "base_uri": "https://localhost:8080/"
        },
        "id": "Gm-GK1BCKkLu",
        "outputId": "8b10c03a-91e3-415f-f2dd-a5d6acfea00a"
      },
      "execution_count": null,
      "outputs": [
        {
          "output_type": "stream",
          "name": "stdout",
          "text": [
            "Mounted at /content/drive\n"
          ]
        }
      ]
    },
    {
      "cell_type": "code",
      "execution_count": null,
      "metadata": {
        "colab": {
          "base_uri": "https://localhost:8080/"
        },
        "id": "29pdHIILKPBo",
        "outputId": "4ab74109-2cd2-4053-dc84-91d9af8fce13"
      },
      "outputs": [
        {
          "output_type": "stream",
          "name": "stdout",
          "text": [
            "/content/drive/MyDrive/KampusMerdeka\n"
          ]
        }
      ],
      "source": [
        "###change directory ke folder drive tempat kalian simpan filenya\n",
        "%cd \"/content/drive/MyDrive/KampusMerdeka\""
      ]
    },
    {
      "cell_type": "code",
      "source": [
        "abalone = pd.read_csv(r'Abalone.csv') #read file di folder drive\n",
        "abalone.head(5) #membaca 5 row teratas"
      ],
      "metadata": {
        "colab": {
          "base_uri": "https://localhost:8080/",
          "height": 268
        },
        "id": "Z3E295XTKrfU",
        "outputId": "5abb6b82-3169-4ed0-fc9a-0de626ffc77d"
      },
      "execution_count": null,
      "outputs": [
        {
          "output_type": "execute_result",
          "data": {
            "text/plain": [
              "  Sex  Length  Diameter  Height  Whole weight  Shucked weight  Viscera weight  \\\n",
              "0   M   0.455     0.365   0.095        0.5140          0.2245          0.1010   \n",
              "1   M   0.350     0.265   0.090        0.2255          0.0995          0.0485   \n",
              "2   F   0.530     0.420   0.135        0.6770          0.2565          0.1415   \n",
              "3   M   0.440     0.365   0.125        0.5160          0.2155          0.1140   \n",
              "4   I   0.330     0.255   0.080        0.2050          0.0895          0.0395   \n",
              "\n",
              "   Shell weight  Rings  \n",
              "0         0.150     15  \n",
              "1         0.070      7  \n",
              "2         0.210      9  \n",
              "3         0.155     10  \n",
              "4         0.055      7  "
            ],
            "text/html": [
              "\n",
              "  <div id=\"df-c66d0ebf-0991-4528-a06a-7a81958af501\">\n",
              "    <div class=\"colab-df-container\">\n",
              "      <div>\n",
              "<style scoped>\n",
              "    .dataframe tbody tr th:only-of-type {\n",
              "        vertical-align: middle;\n",
              "    }\n",
              "\n",
              "    .dataframe tbody tr th {\n",
              "        vertical-align: top;\n",
              "    }\n",
              "\n",
              "    .dataframe thead th {\n",
              "        text-align: right;\n",
              "    }\n",
              "</style>\n",
              "<table border=\"1\" class=\"dataframe\">\n",
              "  <thead>\n",
              "    <tr style=\"text-align: right;\">\n",
              "      <th></th>\n",
              "      <th>Sex</th>\n",
              "      <th>Length</th>\n",
              "      <th>Diameter</th>\n",
              "      <th>Height</th>\n",
              "      <th>Whole weight</th>\n",
              "      <th>Shucked weight</th>\n",
              "      <th>Viscera weight</th>\n",
              "      <th>Shell weight</th>\n",
              "      <th>Rings</th>\n",
              "    </tr>\n",
              "  </thead>\n",
              "  <tbody>\n",
              "    <tr>\n",
              "      <th>0</th>\n",
              "      <td>M</td>\n",
              "      <td>0.455</td>\n",
              "      <td>0.365</td>\n",
              "      <td>0.095</td>\n",
              "      <td>0.5140</td>\n",
              "      <td>0.2245</td>\n",
              "      <td>0.1010</td>\n",
              "      <td>0.150</td>\n",
              "      <td>15</td>\n",
              "    </tr>\n",
              "    <tr>\n",
              "      <th>1</th>\n",
              "      <td>M</td>\n",
              "      <td>0.350</td>\n",
              "      <td>0.265</td>\n",
              "      <td>0.090</td>\n",
              "      <td>0.2255</td>\n",
              "      <td>0.0995</td>\n",
              "      <td>0.0485</td>\n",
              "      <td>0.070</td>\n",
              "      <td>7</td>\n",
              "    </tr>\n",
              "    <tr>\n",
              "      <th>2</th>\n",
              "      <td>F</td>\n",
              "      <td>0.530</td>\n",
              "      <td>0.420</td>\n",
              "      <td>0.135</td>\n",
              "      <td>0.6770</td>\n",
              "      <td>0.2565</td>\n",
              "      <td>0.1415</td>\n",
              "      <td>0.210</td>\n",
              "      <td>9</td>\n",
              "    </tr>\n",
              "    <tr>\n",
              "      <th>3</th>\n",
              "      <td>M</td>\n",
              "      <td>0.440</td>\n",
              "      <td>0.365</td>\n",
              "      <td>0.125</td>\n",
              "      <td>0.5160</td>\n",
              "      <td>0.2155</td>\n",
              "      <td>0.1140</td>\n",
              "      <td>0.155</td>\n",
              "      <td>10</td>\n",
              "    </tr>\n",
              "    <tr>\n",
              "      <th>4</th>\n",
              "      <td>I</td>\n",
              "      <td>0.330</td>\n",
              "      <td>0.255</td>\n",
              "      <td>0.080</td>\n",
              "      <td>0.2050</td>\n",
              "      <td>0.0895</td>\n",
              "      <td>0.0395</td>\n",
              "      <td>0.055</td>\n",
              "      <td>7</td>\n",
              "    </tr>\n",
              "  </tbody>\n",
              "</table>\n",
              "</div>\n",
              "      <button class=\"colab-df-convert\" onclick=\"convertToInteractive('df-c66d0ebf-0991-4528-a06a-7a81958af501')\"\n",
              "              title=\"Convert this dataframe to an interactive table.\"\n",
              "              style=\"display:none;\">\n",
              "        \n",
              "  <svg xmlns=\"http://www.w3.org/2000/svg\" height=\"24px\"viewBox=\"0 0 24 24\"\n",
              "       width=\"24px\">\n",
              "    <path d=\"M0 0h24v24H0V0z\" fill=\"none\"/>\n",
              "    <path d=\"M18.56 5.44l.94 2.06.94-2.06 2.06-.94-2.06-.94-.94-2.06-.94 2.06-2.06.94zm-11 1L8.5 8.5l.94-2.06 2.06-.94-2.06-.94L8.5 2.5l-.94 2.06-2.06.94zm10 10l.94 2.06.94-2.06 2.06-.94-2.06-.94-.94-2.06-.94 2.06-2.06.94z\"/><path d=\"M17.41 7.96l-1.37-1.37c-.4-.4-.92-.59-1.43-.59-.52 0-1.04.2-1.43.59L10.3 9.45l-7.72 7.72c-.78.78-.78 2.05 0 2.83L4 21.41c.39.39.9.59 1.41.59.51 0 1.02-.2 1.41-.59l7.78-7.78 2.81-2.81c.8-.78.8-2.07 0-2.86zM5.41 20L4 18.59l7.72-7.72 1.47 1.35L5.41 20z\"/>\n",
              "  </svg>\n",
              "      </button>\n",
              "      \n",
              "  <style>\n",
              "    .colab-df-container {\n",
              "      display:flex;\n",
              "      flex-wrap:wrap;\n",
              "      gap: 12px;\n",
              "    }\n",
              "\n",
              "    .colab-df-convert {\n",
              "      background-color: #E8F0FE;\n",
              "      border: none;\n",
              "      border-radius: 50%;\n",
              "      cursor: pointer;\n",
              "      display: none;\n",
              "      fill: #1967D2;\n",
              "      height: 32px;\n",
              "      padding: 0 0 0 0;\n",
              "      width: 32px;\n",
              "    }\n",
              "\n",
              "    .colab-df-convert:hover {\n",
              "      background-color: #E2EBFA;\n",
              "      box-shadow: 0px 1px 2px rgba(60, 64, 67, 0.3), 0px 1px 3px 1px rgba(60, 64, 67, 0.15);\n",
              "      fill: #174EA6;\n",
              "    }\n",
              "\n",
              "    [theme=dark] .colab-df-convert {\n",
              "      background-color: #3B4455;\n",
              "      fill: #D2E3FC;\n",
              "    }\n",
              "\n",
              "    [theme=dark] .colab-df-convert:hover {\n",
              "      background-color: #434B5C;\n",
              "      box-shadow: 0px 1px 3px 1px rgba(0, 0, 0, 0.15);\n",
              "      filter: drop-shadow(0px 1px 2px rgba(0, 0, 0, 0.3));\n",
              "      fill: #FFFFFF;\n",
              "    }\n",
              "  </style>\n",
              "\n",
              "      <script>\n",
              "        const buttonEl =\n",
              "          document.querySelector('#df-c66d0ebf-0991-4528-a06a-7a81958af501 button.colab-df-convert');\n",
              "        buttonEl.style.display =\n",
              "          google.colab.kernel.accessAllowed ? 'block' : 'none';\n",
              "\n",
              "        async function convertToInteractive(key) {\n",
              "          const element = document.querySelector('#df-c66d0ebf-0991-4528-a06a-7a81958af501');\n",
              "          const dataTable =\n",
              "            await google.colab.kernel.invokeFunction('convertToInteractive',\n",
              "                                                     [key], {});\n",
              "          if (!dataTable) return;\n",
              "\n",
              "          const docLinkHtml = 'Like what you see? Visit the ' +\n",
              "            '<a target=\"_blank\" href=https://colab.research.google.com/notebooks/data_table.ipynb>data table notebook</a>'\n",
              "            + ' to learn more about interactive tables.';\n",
              "          element.innerHTML = '';\n",
              "          dataTable['output_type'] = 'display_data';\n",
              "          await google.colab.output.renderOutput(dataTable, element);\n",
              "          const docLink = document.createElement('div');\n",
              "          docLink.innerHTML = docLinkHtml;\n",
              "          element.appendChild(docLink);\n",
              "        }\n",
              "      </script>\n",
              "    </div>\n",
              "  </div>\n",
              "  "
            ]
          },
          "metadata": {},
          "execution_count": 4
        }
      ]
    },
    {
      "cell_type": "code",
      "source": [
        "abalone.sum().isnull()"
      ],
      "metadata": {
        "colab": {
          "base_uri": "https://localhost:8080/"
        },
        "id": "RknYFl9VUsDz",
        "outputId": "78c7ec86-eec9-4d7d-ada1-0560ad881897"
      },
      "execution_count": null,
      "outputs": [
        {
          "output_type": "execute_result",
          "data": {
            "text/plain": [
              "Sex               False\n",
              "Length            False\n",
              "Diameter          False\n",
              "Height            False\n",
              "Whole weight      False\n",
              "Shucked weight    False\n",
              "Viscera weight    False\n",
              "Shell weight      False\n",
              "Rings             False\n",
              "dtype: bool"
            ]
          },
          "metadata": {},
          "execution_count": 6
        }
      ]
    },
    {
      "cell_type": "code",
      "source": [
        "abalone.info()"
      ],
      "metadata": {
        "colab": {
          "base_uri": "https://localhost:8080/"
        },
        "id": "rHvE38CEUxCQ",
        "outputId": "5eb3b3f8-3175-42df-a394-bbc74bc9aded"
      },
      "execution_count": null,
      "outputs": [
        {
          "output_type": "stream",
          "name": "stdout",
          "text": [
            "<class 'pandas.core.frame.DataFrame'>\n",
            "RangeIndex: 4177 entries, 0 to 4176\n",
            "Data columns (total 9 columns):\n",
            " #   Column          Non-Null Count  Dtype  \n",
            "---  ------          --------------  -----  \n",
            " 0   Sex             4177 non-null   object \n",
            " 1   Length          4177 non-null   float64\n",
            " 2   Diameter        4177 non-null   float64\n",
            " 3   Height          4177 non-null   float64\n",
            " 4   Whole weight    4177 non-null   float64\n",
            " 5   Shucked weight  4177 non-null   float64\n",
            " 6   Viscera weight  4177 non-null   float64\n",
            " 7   Shell weight    4177 non-null   float64\n",
            " 8   Rings           4177 non-null   int64  \n",
            "dtypes: float64(7), int64(1), object(1)\n",
            "memory usage: 293.8+ KB\n"
          ]
        }
      ]
    },
    {
      "cell_type": "code",
      "source": [
        "abalone.describe"
      ],
      "metadata": {
        "colab": {
          "base_uri": "https://localhost:8080/"
        },
        "id": "Lti50F0AU1Lz",
        "outputId": "9a6ac2d5-5a82-4a8c-8e7a-f55241589b5f"
      },
      "execution_count": null,
      "outputs": [
        {
          "output_type": "execute_result",
          "data": {
            "text/plain": [
              "<bound method NDFrame.describe of      Sex  Length  Diameter  Height  Whole weight  Shucked weight  \\\n",
              "0      M   0.455     0.365   0.095        0.5140          0.2245   \n",
              "1      M   0.350     0.265   0.090        0.2255          0.0995   \n",
              "2      F   0.530     0.420   0.135        0.6770          0.2565   \n",
              "3      M   0.440     0.365   0.125        0.5160          0.2155   \n",
              "4      I   0.330     0.255   0.080        0.2050          0.0895   \n",
              "...   ..     ...       ...     ...           ...             ...   \n",
              "4172   F   0.565     0.450   0.165        0.8870          0.3700   \n",
              "4173   M   0.590     0.440   0.135        0.9660          0.4390   \n",
              "4174   M   0.600     0.475   0.205        1.1760          0.5255   \n",
              "4175   F   0.625     0.485   0.150        1.0945          0.5310   \n",
              "4176   M   0.710     0.555   0.195        1.9485          0.9455   \n",
              "\n",
              "      Viscera weight  Shell weight  Rings  \n",
              "0             0.1010        0.1500     15  \n",
              "1             0.0485        0.0700      7  \n",
              "2             0.1415        0.2100      9  \n",
              "3             0.1140        0.1550     10  \n",
              "4             0.0395        0.0550      7  \n",
              "...              ...           ...    ...  \n",
              "4172          0.2390        0.2490     11  \n",
              "4173          0.2145        0.2605     10  \n",
              "4174          0.2875        0.3080      9  \n",
              "4175          0.2610        0.2960     10  \n",
              "4176          0.3765        0.4950     12  \n",
              "\n",
              "[4177 rows x 9 columns]>"
            ]
          },
          "metadata": {},
          "execution_count": 8
        }
      ]
    },
    {
      "cell_type": "code",
      "source": [
        "encoded_data = pd.get_dummies(abalone)\n",
        "print(encoded_data.shape)"
      ],
      "metadata": {
        "id": "oq1gHYyxPbhH",
        "colab": {
          "base_uri": "https://localhost:8080/"
        },
        "outputId": "d241357a-f442-43cd-cb8c-6a4383b96800"
      },
      "execution_count": null,
      "outputs": [
        {
          "output_type": "stream",
          "name": "stdout",
          "text": [
            "(4177, 11)\n"
          ]
        }
      ]
    },
    {
      "cell_type": "code",
      "source": [
        "encoded_data.head()"
      ],
      "metadata": {
        "colab": {
          "base_uri": "https://localhost:8080/",
          "height": 288
        },
        "id": "SVOftXyUPoyl",
        "outputId": "0b2c2895-1296-4891-f3f7-222d4aeaa1ed"
      },
      "execution_count": null,
      "outputs": [
        {
          "output_type": "execute_result",
          "data": {
            "text/plain": [
              "   Length  Diameter  Height  Whole weight  Shucked weight  Viscera weight  \\\n",
              "0   0.455     0.365   0.095        0.5140          0.2245          0.1010   \n",
              "1   0.350     0.265   0.090        0.2255          0.0995          0.0485   \n",
              "2   0.530     0.420   0.135        0.6770          0.2565          0.1415   \n",
              "3   0.440     0.365   0.125        0.5160          0.2155          0.1140   \n",
              "4   0.330     0.255   0.080        0.2050          0.0895          0.0395   \n",
              "\n",
              "   Shell weight  Rings  Sex_F  Sex_I  Sex_M  \n",
              "0         0.150     15      0      0      1  \n",
              "1         0.070      7      0      0      1  \n",
              "2         0.210      9      1      0      0  \n",
              "3         0.155     10      0      0      1  \n",
              "4         0.055      7      0      1      0  "
            ],
            "text/html": [
              "\n",
              "  <div id=\"df-5c30d66d-51c5-4f96-b65a-574b6fc73242\">\n",
              "    <div class=\"colab-df-container\">\n",
              "      <div>\n",
              "<style scoped>\n",
              "    .dataframe tbody tr th:only-of-type {\n",
              "        vertical-align: middle;\n",
              "    }\n",
              "\n",
              "    .dataframe tbody tr th {\n",
              "        vertical-align: top;\n",
              "    }\n",
              "\n",
              "    .dataframe thead th {\n",
              "        text-align: right;\n",
              "    }\n",
              "</style>\n",
              "<table border=\"1\" class=\"dataframe\">\n",
              "  <thead>\n",
              "    <tr style=\"text-align: right;\">\n",
              "      <th></th>\n",
              "      <th>Length</th>\n",
              "      <th>Diameter</th>\n",
              "      <th>Height</th>\n",
              "      <th>Whole weight</th>\n",
              "      <th>Shucked weight</th>\n",
              "      <th>Viscera weight</th>\n",
              "      <th>Shell weight</th>\n",
              "      <th>Rings</th>\n",
              "      <th>Sex_F</th>\n",
              "      <th>Sex_I</th>\n",
              "      <th>Sex_M</th>\n",
              "    </tr>\n",
              "  </thead>\n",
              "  <tbody>\n",
              "    <tr>\n",
              "      <th>0</th>\n",
              "      <td>0.455</td>\n",
              "      <td>0.365</td>\n",
              "      <td>0.095</td>\n",
              "      <td>0.5140</td>\n",
              "      <td>0.2245</td>\n",
              "      <td>0.1010</td>\n",
              "      <td>0.150</td>\n",
              "      <td>15</td>\n",
              "      <td>0</td>\n",
              "      <td>0</td>\n",
              "      <td>1</td>\n",
              "    </tr>\n",
              "    <tr>\n",
              "      <th>1</th>\n",
              "      <td>0.350</td>\n",
              "      <td>0.265</td>\n",
              "      <td>0.090</td>\n",
              "      <td>0.2255</td>\n",
              "      <td>0.0995</td>\n",
              "      <td>0.0485</td>\n",
              "      <td>0.070</td>\n",
              "      <td>7</td>\n",
              "      <td>0</td>\n",
              "      <td>0</td>\n",
              "      <td>1</td>\n",
              "    </tr>\n",
              "    <tr>\n",
              "      <th>2</th>\n",
              "      <td>0.530</td>\n",
              "      <td>0.420</td>\n",
              "      <td>0.135</td>\n",
              "      <td>0.6770</td>\n",
              "      <td>0.2565</td>\n",
              "      <td>0.1415</td>\n",
              "      <td>0.210</td>\n",
              "      <td>9</td>\n",
              "      <td>1</td>\n",
              "      <td>0</td>\n",
              "      <td>0</td>\n",
              "    </tr>\n",
              "    <tr>\n",
              "      <th>3</th>\n",
              "      <td>0.440</td>\n",
              "      <td>0.365</td>\n",
              "      <td>0.125</td>\n",
              "      <td>0.5160</td>\n",
              "      <td>0.2155</td>\n",
              "      <td>0.1140</td>\n",
              "      <td>0.155</td>\n",
              "      <td>10</td>\n",
              "      <td>0</td>\n",
              "      <td>0</td>\n",
              "      <td>1</td>\n",
              "    </tr>\n",
              "    <tr>\n",
              "      <th>4</th>\n",
              "      <td>0.330</td>\n",
              "      <td>0.255</td>\n",
              "      <td>0.080</td>\n",
              "      <td>0.2050</td>\n",
              "      <td>0.0895</td>\n",
              "      <td>0.0395</td>\n",
              "      <td>0.055</td>\n",
              "      <td>7</td>\n",
              "      <td>0</td>\n",
              "      <td>1</td>\n",
              "      <td>0</td>\n",
              "    </tr>\n",
              "  </tbody>\n",
              "</table>\n",
              "</div>\n",
              "      <button class=\"colab-df-convert\" onclick=\"convertToInteractive('df-5c30d66d-51c5-4f96-b65a-574b6fc73242')\"\n",
              "              title=\"Convert this dataframe to an interactive table.\"\n",
              "              style=\"display:none;\">\n",
              "        \n",
              "  <svg xmlns=\"http://www.w3.org/2000/svg\" height=\"24px\"viewBox=\"0 0 24 24\"\n",
              "       width=\"24px\">\n",
              "    <path d=\"M0 0h24v24H0V0z\" fill=\"none\"/>\n",
              "    <path d=\"M18.56 5.44l.94 2.06.94-2.06 2.06-.94-2.06-.94-.94-2.06-.94 2.06-2.06.94zm-11 1L8.5 8.5l.94-2.06 2.06-.94-2.06-.94L8.5 2.5l-.94 2.06-2.06.94zm10 10l.94 2.06.94-2.06 2.06-.94-2.06-.94-.94-2.06-.94 2.06-2.06.94z\"/><path d=\"M17.41 7.96l-1.37-1.37c-.4-.4-.92-.59-1.43-.59-.52 0-1.04.2-1.43.59L10.3 9.45l-7.72 7.72c-.78.78-.78 2.05 0 2.83L4 21.41c.39.39.9.59 1.41.59.51 0 1.02-.2 1.41-.59l7.78-7.78 2.81-2.81c.8-.78.8-2.07 0-2.86zM5.41 20L4 18.59l7.72-7.72 1.47 1.35L5.41 20z\"/>\n",
              "  </svg>\n",
              "      </button>\n",
              "      \n",
              "  <style>\n",
              "    .colab-df-container {\n",
              "      display:flex;\n",
              "      flex-wrap:wrap;\n",
              "      gap: 12px;\n",
              "    }\n",
              "\n",
              "    .colab-df-convert {\n",
              "      background-color: #E8F0FE;\n",
              "      border: none;\n",
              "      border-radius: 50%;\n",
              "      cursor: pointer;\n",
              "      display: none;\n",
              "      fill: #1967D2;\n",
              "      height: 32px;\n",
              "      padding: 0 0 0 0;\n",
              "      width: 32px;\n",
              "    }\n",
              "\n",
              "    .colab-df-convert:hover {\n",
              "      background-color: #E2EBFA;\n",
              "      box-shadow: 0px 1px 2px rgba(60, 64, 67, 0.3), 0px 1px 3px 1px rgba(60, 64, 67, 0.15);\n",
              "      fill: #174EA6;\n",
              "    }\n",
              "\n",
              "    [theme=dark] .colab-df-convert {\n",
              "      background-color: #3B4455;\n",
              "      fill: #D2E3FC;\n",
              "    }\n",
              "\n",
              "    [theme=dark] .colab-df-convert:hover {\n",
              "      background-color: #434B5C;\n",
              "      box-shadow: 0px 1px 3px 1px rgba(0, 0, 0, 0.15);\n",
              "      filter: drop-shadow(0px 1px 2px rgba(0, 0, 0, 0.3));\n",
              "      fill: #FFFFFF;\n",
              "    }\n",
              "  </style>\n",
              "\n",
              "      <script>\n",
              "        const buttonEl =\n",
              "          document.querySelector('#df-5c30d66d-51c5-4f96-b65a-574b6fc73242 button.colab-df-convert');\n",
              "        buttonEl.style.display =\n",
              "          google.colab.kernel.accessAllowed ? 'block' : 'none';\n",
              "\n",
              "        async function convertToInteractive(key) {\n",
              "          const element = document.querySelector('#df-5c30d66d-51c5-4f96-b65a-574b6fc73242');\n",
              "          const dataTable =\n",
              "            await google.colab.kernel.invokeFunction('convertToInteractive',\n",
              "                                                     [key], {});\n",
              "          if (!dataTable) return;\n",
              "\n",
              "          const docLinkHtml = 'Like what you see? Visit the ' +\n",
              "            '<a target=\"_blank\" href=https://colab.research.google.com/notebooks/data_table.ipynb>data table notebook</a>'\n",
              "            + ' to learn more about interactive tables.';\n",
              "          element.innerHTML = '';\n",
              "          dataTable['output_type'] = 'display_data';\n",
              "          await google.colab.output.renderOutput(dataTable, element);\n",
              "          const docLink = document.createElement('div');\n",
              "          docLink.innerHTML = docLinkHtml;\n",
              "          element.appendChild(docLink);\n",
              "        }\n",
              "      </script>\n",
              "    </div>\n",
              "  </div>\n",
              "  "
            ]
          },
          "metadata": {},
          "execution_count": 10
        }
      ]
    },
    {
      "cell_type": "code",
      "source": [
        "\n",
        "\n",
        "from sklearn.model_selection import train_test_split\n",
        "training_set = encoded_data.iloc[:4099, :]\n",
        "validation_set = encoded_data.iloc[4099:, :]\n",
        "\n",
        "print(training_set.shape)\n",
        "print(validation_set.shape)"
      ],
      "metadata": {
        "colab": {
          "base_uri": "https://localhost:8080/"
        },
        "id": "xy9mbfXMVIET",
        "outputId": "a3caeae2-5ef1-4108-d060-b61b3e2dd4ec"
      },
      "execution_count": null,
      "outputs": [
        {
          "output_type": "stream",
          "name": "stdout",
          "text": [
            "(4099, 11)\n",
            "(78, 11)\n"
          ]
        }
      ]
    },
    {
      "cell_type": "code",
      "source": [
        "# split data into training and testing sets\n",
        "\n",
        "X = training_set[['Length','Height']]\n",
        "y = training_set['Rings'].values.reshape(-1,1)\n",
        "\n",
        "X_val = validation_set[['Length','Height']]\n",
        "y_val = validation_set['Rings'].values.reshape(-1,1)\n",
        "\n",
        "X_train, X_test, y_train, y_test = train_test_split(X, y, test_size = 0.1, random_state = 42)"
      ],
      "metadata": {
        "id": "TdzpQlybYeQO"
      },
      "execution_count": null,
      "outputs": []
    },
    {
      "cell_type": "code",
      "source": [
        "from sklearn.linear_model import LinearRegression\n",
        "\n",
        "\n",
        "lin_reg = LinearRegression()\n",
        "lin_reg.fit(X_train, y_train)\n",
        "\n",
        "\n",
        "\n"
      ],
      "metadata": {
        "colab": {
          "base_uri": "https://localhost:8080/",
          "height": 75
        },
        "id": "8lxz4QDrRf8i",
        "outputId": "c66c0cb9-a33a-41e7-d76b-677ccdf7f99f"
      },
      "execution_count": null,
      "outputs": [
        {
          "output_type": "execute_result",
          "data": {
            "text/plain": [
              "LinearRegression()"
            ],
            "text/html": [
              "<style>#sk-container-id-1 {color: black;background-color: white;}#sk-container-id-1 pre{padding: 0;}#sk-container-id-1 div.sk-toggleable {background-color: white;}#sk-container-id-1 label.sk-toggleable__label {cursor: pointer;display: block;width: 100%;margin-bottom: 0;padding: 0.3em;box-sizing: border-box;text-align: center;}#sk-container-id-1 label.sk-toggleable__label-arrow:before {content: \"▸\";float: left;margin-right: 0.25em;color: #696969;}#sk-container-id-1 label.sk-toggleable__label-arrow:hover:before {color: black;}#sk-container-id-1 div.sk-estimator:hover label.sk-toggleable__label-arrow:before {color: black;}#sk-container-id-1 div.sk-toggleable__content {max-height: 0;max-width: 0;overflow: hidden;text-align: left;background-color: #f0f8ff;}#sk-container-id-1 div.sk-toggleable__content pre {margin: 0.2em;color: black;border-radius: 0.25em;background-color: #f0f8ff;}#sk-container-id-1 input.sk-toggleable__control:checked~div.sk-toggleable__content {max-height: 200px;max-width: 100%;overflow: auto;}#sk-container-id-1 input.sk-toggleable__control:checked~label.sk-toggleable__label-arrow:before {content: \"▾\";}#sk-container-id-1 div.sk-estimator input.sk-toggleable__control:checked~label.sk-toggleable__label {background-color: #d4ebff;}#sk-container-id-1 div.sk-label input.sk-toggleable__control:checked~label.sk-toggleable__label {background-color: #d4ebff;}#sk-container-id-1 input.sk-hidden--visually {border: 0;clip: rect(1px 1px 1px 1px);clip: rect(1px, 1px, 1px, 1px);height: 1px;margin: -1px;overflow: hidden;padding: 0;position: absolute;width: 1px;}#sk-container-id-1 div.sk-estimator {font-family: monospace;background-color: #f0f8ff;border: 1px dotted black;border-radius: 0.25em;box-sizing: border-box;margin-bottom: 0.5em;}#sk-container-id-1 div.sk-estimator:hover {background-color: #d4ebff;}#sk-container-id-1 div.sk-parallel-item::after {content: \"\";width: 100%;border-bottom: 1px solid gray;flex-grow: 1;}#sk-container-id-1 div.sk-label:hover label.sk-toggleable__label {background-color: #d4ebff;}#sk-container-id-1 div.sk-serial::before {content: \"\";position: absolute;border-left: 1px solid gray;box-sizing: border-box;top: 0;bottom: 0;left: 50%;z-index: 0;}#sk-container-id-1 div.sk-serial {display: flex;flex-direction: column;align-items: center;background-color: white;padding-right: 0.2em;padding-left: 0.2em;position: relative;}#sk-container-id-1 div.sk-item {position: relative;z-index: 1;}#sk-container-id-1 div.sk-parallel {display: flex;align-items: stretch;justify-content: center;background-color: white;position: relative;}#sk-container-id-1 div.sk-item::before, #sk-container-id-1 div.sk-parallel-item::before {content: \"\";position: absolute;border-left: 1px solid gray;box-sizing: border-box;top: 0;bottom: 0;left: 50%;z-index: -1;}#sk-container-id-1 div.sk-parallel-item {display: flex;flex-direction: column;z-index: 1;position: relative;background-color: white;}#sk-container-id-1 div.sk-parallel-item:first-child::after {align-self: flex-end;width: 50%;}#sk-container-id-1 div.sk-parallel-item:last-child::after {align-self: flex-start;width: 50%;}#sk-container-id-1 div.sk-parallel-item:only-child::after {width: 0;}#sk-container-id-1 div.sk-dashed-wrapped {border: 1px dashed gray;margin: 0 0.4em 0.5em 0.4em;box-sizing: border-box;padding-bottom: 0.4em;background-color: white;}#sk-container-id-1 div.sk-label label {font-family: monospace;font-weight: bold;display: inline-block;line-height: 1.2em;}#sk-container-id-1 div.sk-label-container {text-align: center;}#sk-container-id-1 div.sk-container {/* jupyter's `normalize.less` sets `[hidden] { display: none; }` but bootstrap.min.css set `[hidden] { display: none !important; }` so we also need the `!important` here to be able to override the default hidden behavior on the sphinx rendered scikit-learn.org. See: https://github.com/scikit-learn/scikit-learn/issues/21755 */display: inline-block !important;position: relative;}#sk-container-id-1 div.sk-text-repr-fallback {display: none;}</style><div id=\"sk-container-id-1\" class=\"sk-top-container\"><div class=\"sk-text-repr-fallback\"><pre>LinearRegression()</pre><b>In a Jupyter environment, please rerun this cell to show the HTML representation or trust the notebook. <br />On GitHub, the HTML representation is unable to render, please try loading this page with nbviewer.org.</b></div><div class=\"sk-container\" hidden><div class=\"sk-item\"><div class=\"sk-estimator sk-toggleable\"><input class=\"sk-toggleable__control sk-hidden--visually\" id=\"sk-estimator-id-1\" type=\"checkbox\" checked><label for=\"sk-estimator-id-1\" class=\"sk-toggleable__label sk-toggleable__label-arrow\">LinearRegression</label><div class=\"sk-toggleable__content\"><pre>LinearRegression()</pre></div></div></div></div></div>"
            ]
          },
          "metadata": {},
          "execution_count": 11
        }
      ]
    },
    {
      "cell_type": "code",
      "source": [
        "from sklearn.metrics import mean_squared_error\n",
        "#Test RMSE\n",
        "lin_regression_pred = lin_reg.predict(X_test)\n",
        "test_rmse = mean_squared_error(y_test, lin_regression_pred, squared=False)\n",
        "print(f'Nilai RMSE:{test_rmse}')\n"
      ],
      "metadata": {
        "colab": {
          "base_uri": "https://localhost:8080/"
        },
        "id": "80vAiZhyVuTv",
        "outputId": "850269f4-9a6a-41b2-afd1-72503fb6014e"
      },
      "execution_count": null,
      "outputs": [
        {
          "output_type": "stream",
          "name": "stdout",
          "text": [
            "Nilai RMSE:2.5679099174951547\n"
          ]
        }
      ]
    },
    {
      "cell_type": "code",
      "source": [
        "#Validation RMSE\n",
        "lin_reg_pred_val = lin_reg.predict(X_val)\n",
        "val_rmse = mean_squared_error(y_val, lin_reg_pred_val, squared=False)\n",
        "print(f'Validation RMSE: {val_rmse}')"
      ],
      "metadata": {
        "colab": {
          "base_uri": "https://localhost:8080/"
        },
        "id": "o7seRO5zYdfZ",
        "outputId": "26866b08-af9e-4a17-a09b-53a5131c756f"
      },
      "execution_count": null,
      "outputs": [
        {
          "output_type": "stream",
          "name": "stdout",
          "text": [
            "Validation RMSE: 1.566178378231162\n"
          ]
        }
      ]
    },
    {
      "cell_type": "markdown",
      "source": [
        "#Random Forest"
      ],
      "metadata": {
        "id": "BaZcoF8z49hc"
      }
    },
    {
      "cell_type": "code",
      "source": [
        "#Regresi Random Forest\n",
        "from sklearn.model_selection import GridSearchCV\n",
        "from sklearn.ensemble import RandomForestRegressor\n",
        "\n",
        "rf = RandomForestRegressor()\n",
        "parameters = {'n_estimators' : [int(x) for x in np.linspace(100,1000,10)]}\n",
        "rf_regressor = GridSearchCV(rf, parameters, scoring='neg_mean_squared_error', cv=5)\n",
        "rf_regressor.fit(X_train, y_train.ravel())\n",
        "\n",
        "print(rf_regressor.best_params_)\n",
        "print(-rf_regressor.best_score_)"
      ],
      "metadata": {
        "id": "lNRt1OUuYdpa"
      },
      "execution_count": null,
      "outputs": []
    },
    {
      "cell_type": "code",
      "source": [
        "rf_reg = RandomForestRegressor(n_estimators = 300)\n",
        "rf_reg.fit(X_train, y_train)\n",
        "\n",
        "#Test RMSE\n",
        "rf_reg_pred = rf_reg.predict(X_test)\n",
        "test_rmse = mean_squared_error(y_test, rf_reg_pred, squared=False)\n",
        "print(f'Nilai RMSE:{test_rmse}')"
      ],
      "metadata": {
        "id": "FZovqgnHVe9g",
        "colab": {
          "base_uri": "https://localhost:8080/"
        },
        "outputId": "0ee20b4d-8389-4926-d884-57f9bc5c1826"
      },
      "execution_count": null,
      "outputs": [
        {
          "output_type": "stream",
          "name": "stderr",
          "text": [
            "<ipython-input-14-54c71f570861>:2: DataConversionWarning: A column-vector y was passed when a 1d array was expected. Please change the shape of y to (n_samples,), for example using ravel().\n",
            "  rf_reg.fit(X_train, y_train)\n"
          ]
        },
        {
          "output_type": "stream",
          "name": "stdout",
          "text": [
            "Nilai RMSE:2.682397027163601\n"
          ]
        }
      ]
    },
    {
      "cell_type": "code",
      "source": [
        "#Validation RMSE\n",
        "rf_reg_pred_val = rf_reg.predict(X_val)\n",
        "val_rmse = mean_squared_error(y_val, rf_reg_pred_val, squared=False)\n",
        "print(f'Validation RMSE: {val_rmse}')"
      ],
      "metadata": {
        "colab": {
          "base_uri": "https://localhost:8080/"
        },
        "id": "ZekswpVO-VFL",
        "outputId": "f1d76ab3-def7-4521-daaf-f5dd32f23659"
      },
      "execution_count": null,
      "outputs": [
        {
          "output_type": "stream",
          "name": "stdout",
          "text": [
            "Validation RMSE: 2.1732493076890362\n"
          ]
        }
      ]
    },
    {
      "cell_type": "markdown",
      "source": [
        "#Decision Tree"
      ],
      "metadata": {
        "id": "3E-SZsSuMmWj"
      }
    },
    {
      "cell_type": "code",
      "source": [
        "#Import Decision Tree\n",
        "from sklearn.tree import DecisionTreeRegressor \n",
        "from sklearn.model_selection import GridSearchCV"
      ],
      "metadata": {
        "id": "NsicyUBlEJ9P"
      },
      "execution_count": null,
      "outputs": []
    },
    {
      "cell_type": "code",
      "source": [
        "\n",
        "dt = DecisionTreeRegressor()\n",
        "#max_depth mengontrol kedalaman maksimum dari decision tree yang akan dibangun\n",
        "#min_samples_split menentukan jumlah minimum sampel yang diperlukan untuk membagi sebuah node dalam decision tree.\n",
        "parameters = {'max_depth': [3, 5, 7], 'min_samples_split': [2, 5, 10]}\n",
        "dt_regressor = GridSearchCV(dt, parameters, scoring='neg_mean_squared_error', cv=5)\n",
        "dt_regressor.fit(X_train, y_train.ravel())\n",
        "\n",
        "print(dt_regressor.best_params_)\n",
        "print(-dt_regressor.best_score_)"
      ],
      "metadata": {
        "colab": {
          "base_uri": "https://localhost:8080/"
        },
        "id": "349V3OPuEdP9",
        "outputId": "40fa822f-5191-4479-bbbd-1258dfe455d6"
      },
      "execution_count": null,
      "outputs": [
        {
          "output_type": "stream",
          "name": "stdout",
          "text": [
            "{'max_depth': 5, 'min_samples_split': 5}\n",
            "6.7201871713172725\n"
          ]
        }
      ]
    },
    {
      "cell_type": "code",
      "source": [
        "dt_reg = DecisionTreeRegressor()\n",
        "dt_reg.fit(X_train, y_train)\n",
        "\n",
        "#Test RMSE\n",
        "dt_reg_pred = dt_reg.predict(X_test)\n",
        "test_rmse = mean_squared_error(y_test, dt_reg_pred, squared=False)\n",
        "print(f'Nilai RMSE:{test_rmse}')"
      ],
      "metadata": {
        "colab": {
          "base_uri": "https://localhost:8080/"
        },
        "id": "EEEn2qUBG2WA",
        "outputId": "76f7da2a-c24e-4e44-c02b-3c5b67669880"
      },
      "execution_count": null,
      "outputs": [
        {
          "output_type": "stream",
          "name": "stdout",
          "text": [
            "Nilai RMSE:2.843446840943459\n"
          ]
        }
      ]
    },
    {
      "cell_type": "code",
      "source": [
        "#Validation RMSE\n",
        "rf_reg_pred_val = rf_reg.predict(X_val)\n",
        "val_rmse = mean_squared_error(y_val, rf_reg_pred_val, squared=False)\n",
        "print(f'Validation RMSE: {val_rmse}')"
      ],
      "metadata": {
        "colab": {
          "base_uri": "https://localhost:8080/"
        },
        "id": "QenUl-j7JqCK",
        "outputId": "8b2afa40-ca6c-4bb0-eb86-48834898b884"
      },
      "execution_count": null,
      "outputs": [
        {
          "output_type": "stream",
          "name": "stdout",
          "text": [
            "Validation RMSE: 2.1688414146685275\n"
          ]
        }
      ]
    },
    {
      "cell_type": "markdown",
      "source": [
        "#Gradien Boosting"
      ],
      "metadata": {
        "id": "ugsB3meEKkQb"
      }
    },
    {
      "cell_type": "code",
      "source": [
        "#Import Package\n",
        "from sklearn.ensemble import GradientBoostingRegressor\n",
        "from sklearn.model_selection import GridSearchCV\n"
      ],
      "metadata": {
        "id": "tCssSpM4KjFB"
      },
      "execution_count": null,
      "outputs": []
    },
    {
      "cell_type": "code",
      "source": [
        "gb_reg = GradientBoostingRegressor()\n",
        "\n",
        "parameters = {'max_depth': [3, 5, 7], 'min_samples_split': [2, 5, 10]}\n",
        "gb_regressor = GridSearchCV(gb_reg, parameters, scoring='neg_mean_squared_error', cv=5)\n",
        "gb_regressor.fit(X_train, y_train.ravel())\n",
        "\n",
        "print(gb_regressor.best_params_)\n",
        "print(-gb_regressor.best_score_)"
      ],
      "metadata": {
        "colab": {
          "base_uri": "https://localhost:8080/"
        },
        "id": "FFl17rZOLWIR",
        "outputId": "4237f9ed-ba62-4743-ceaa-404cd5b3d8f0"
      },
      "execution_count": null,
      "outputs": [
        {
          "output_type": "stream",
          "name": "stdout",
          "text": [
            "{'max_depth': 3, 'min_samples_split': 5}\n",
            "6.652329743045243\n"
          ]
        }
      ]
    },
    {
      "cell_type": "code",
      "source": [
        "gb_reg = DecisionTreeRegressor()\n",
        "gb_reg.fit(X_train, y_train)\n",
        "\n",
        "#Test RMSE\n",
        "gb_reg_pred = gb_reg.predict(X_test)\n",
        "test_rmse = mean_squared_error(y_test, gb_reg_pred, squared=False)\n",
        "print(f'Nilai RMSE:{test_rmse}')"
      ],
      "metadata": {
        "colab": {
          "base_uri": "https://localhost:8080/"
        },
        "id": "OoMAcfP_MxYK",
        "outputId": "59a73bf9-88f7-44a1-8f10-66d45955a450"
      },
      "execution_count": null,
      "outputs": [
        {
          "output_type": "stream",
          "name": "stdout",
          "text": [
            "Nilai RMSE:2.839082205440634\n"
          ]
        }
      ]
    },
    {
      "cell_type": "code",
      "source": [
        "#Validation RMSE\n",
        "gb_reg_pred_val = gb_reg.predict(X_val)\n",
        "val_rmse = mean_squared_error(y_val, gb_reg_pred_val, squared=False)\n",
        "print(f'Validation RMSE: {val_rmse}')"
      ],
      "metadata": {
        "colab": {
          "base_uri": "https://localhost:8080/"
        },
        "id": "rWTzrAXCM1T6",
        "outputId": "e4c4b3aa-d360-4457-e921-83e9d409c921"
      },
      "execution_count": null,
      "outputs": [
        {
          "output_type": "stream",
          "name": "stdout",
          "text": [
            "Validation RMSE: 2.480683499836481\n"
          ]
        }
      ]
    },
    {
      "cell_type": "markdown",
      "source": [
        "#Neural Nerwork"
      ],
      "metadata": {
        "id": "v0amI5gHNeHT"
      }
    },
    {
      "cell_type": "code",
      "source": [
        "from keras.models import Sequential\n",
        "from keras.layers import Dense\n",
        "from sklearn.metrics import mean_squared_error\n",
        "from sklearn.model_selection import train_test_split\n",
        "import numpy as np\n",
        "\n",
        "# Memisahkan data menjadi data latih dan data uji\n",
        "X_train, X_test, y_train, y_test = train_test_split(X, y, test_size=0.2, random_state=42)\n",
        "\n",
        "# Membangun model Neural Network\n",
        "model = Sequential()\n",
        "model.add(Dense(10, input_dim=X_train.shape[1], activation='relu'))\n",
        "model.add(Dense(1, activation='linear'))\n",
        "\n",
        "# Mengkompilasi model\n",
        "model.compile(loss='mean_squared_error', optimizer='adam')\n",
        "\n",
        "# Melatih model\n",
        "model.fit(X_train, y_train, epochs=100, batch_size=32, verbose=1)\n",
        "\n",
        "# Evaluasi model pada data uji\n",
        "y_pred = model.predict(X_test)\n",
        "test_rmse = np.sqrt(mean_squared_error(y_test, y_pred))\n",
        "print(f'Nilai RMSE: {test_rmse}')"
      ],
      "metadata": {
        "colab": {
          "base_uri": "https://localhost:8080/"
        },
        "id": "oNlFeqyJNaIb",
        "outputId": "f03d80fa-d695-4347-f4ea-5d0d2d223fcb"
      },
      "execution_count": null,
      "outputs": [
        {
          "output_type": "stream",
          "name": "stdout",
          "text": [
            "Epoch 1/100\n",
            "103/103 [==============================] - 1s 2ms/step - loss: 107.8923\n",
            "Epoch 2/100\n",
            "103/103 [==============================] - 0s 2ms/step - loss: 96.5618\n",
            "Epoch 3/100\n",
            "103/103 [==============================] - 0s 2ms/step - loss: 86.1856\n",
            "Epoch 4/100\n",
            "103/103 [==============================] - 0s 2ms/step - loss: 75.0518\n",
            "Epoch 5/100\n",
            "103/103 [==============================] - 0s 2ms/step - loss: 63.1456\n",
            "Epoch 6/100\n",
            "103/103 [==============================] - 0s 2ms/step - loss: 51.2383\n",
            "Epoch 7/100\n",
            "103/103 [==============================] - 0s 2ms/step - loss: 40.1494\n",
            "Epoch 8/100\n",
            "103/103 [==============================] - 0s 2ms/step - loss: 30.5446\n",
            "Epoch 9/100\n",
            "103/103 [==============================] - 0s 1ms/step - loss: 22.8107\n",
            "Epoch 10/100\n",
            "103/103 [==============================] - 0s 2ms/step - loss: 17.0493\n",
            "Epoch 11/100\n",
            "103/103 [==============================] - 0s 2ms/step - loss: 13.0919\n",
            "Epoch 12/100\n",
            "103/103 [==============================] - 0s 2ms/step - loss: 10.6174\n",
            "Epoch 13/100\n",
            "103/103 [==============================] - 0s 2ms/step - loss: 9.2203\n",
            "Epoch 14/100\n",
            "103/103 [==============================] - 0s 2ms/step - loss: 8.5008\n",
            "Epoch 15/100\n",
            "103/103 [==============================] - 0s 1ms/step - loss: 8.1640\n",
            "Epoch 16/100\n",
            "103/103 [==============================] - 0s 1ms/step - loss: 8.0194\n",
            "Epoch 17/100\n",
            "103/103 [==============================] - 0s 1ms/step - loss: 7.9507\n",
            "Epoch 18/100\n",
            "103/103 [==============================] - 0s 2ms/step - loss: 7.9048\n",
            "Epoch 19/100\n",
            "103/103 [==============================] - 0s 2ms/step - loss: 7.8590\n",
            "Epoch 20/100\n",
            "103/103 [==============================] - 0s 2ms/step - loss: 7.8105\n",
            "Epoch 21/100\n",
            "103/103 [==============================] - 0s 1ms/step - loss: 7.7617\n",
            "Epoch 22/100\n",
            "103/103 [==============================] - 0s 1ms/step - loss: 7.7128\n",
            "Epoch 23/100\n",
            "103/103 [==============================] - 0s 2ms/step - loss: 7.6657\n",
            "Epoch 24/100\n",
            "103/103 [==============================] - 0s 1ms/step - loss: 7.6203\n",
            "Epoch 25/100\n",
            "103/103 [==============================] - 0s 2ms/step - loss: 7.5772\n",
            "Epoch 26/100\n",
            "103/103 [==============================] - 0s 2ms/step - loss: 7.5351\n",
            "Epoch 27/100\n",
            "103/103 [==============================] - 0s 2ms/step - loss: 7.4977\n",
            "Epoch 28/100\n",
            "103/103 [==============================] - 0s 2ms/step - loss: 7.4660\n",
            "Epoch 29/100\n",
            "103/103 [==============================] - 0s 4ms/step - loss: 7.4361\n",
            "Epoch 30/100\n",
            "103/103 [==============================] - 0s 3ms/step - loss: 7.4036\n",
            "Epoch 31/100\n",
            "103/103 [==============================] - 0s 3ms/step - loss: 7.3780\n",
            "Epoch 32/100\n",
            "103/103 [==============================] - 0s 4ms/step - loss: 7.3510\n",
            "Epoch 33/100\n",
            "103/103 [==============================] - 0s 2ms/step - loss: 7.3274\n",
            "Epoch 34/100\n",
            "103/103 [==============================] - 0s 3ms/step - loss: 7.3161\n",
            "Epoch 35/100\n",
            "103/103 [==============================] - 0s 2ms/step - loss: 7.2949\n",
            "Epoch 36/100\n",
            "103/103 [==============================] - 0s 3ms/step - loss: 7.2763\n",
            "Epoch 37/100\n",
            "103/103 [==============================] - 0s 2ms/step - loss: 7.2596\n",
            "Epoch 38/100\n",
            "103/103 [==============================] - 0s 2ms/step - loss: 7.2464\n",
            "Epoch 39/100\n",
            "103/103 [==============================] - 0s 4ms/step - loss: 7.2358\n",
            "Epoch 40/100\n",
            "103/103 [==============================] - 0s 3ms/step - loss: 7.2120\n",
            "Epoch 41/100\n",
            "103/103 [==============================] - 0s 4ms/step - loss: 7.2144\n",
            "Epoch 42/100\n",
            "103/103 [==============================] - 0s 4ms/step - loss: 7.2015\n",
            "Epoch 43/100\n",
            "103/103 [==============================] - 0s 3ms/step - loss: 7.1917\n",
            "Epoch 44/100\n",
            "103/103 [==============================] - 0s 3ms/step - loss: 7.1822\n",
            "Epoch 45/100\n",
            "103/103 [==============================] - 0s 3ms/step - loss: 7.1738\n",
            "Epoch 46/100\n",
            "103/103 [==============================] - 0s 3ms/step - loss: 7.1690\n",
            "Epoch 47/100\n",
            "103/103 [==============================] - 0s 3ms/step - loss: 7.1652\n",
            "Epoch 48/100\n",
            "103/103 [==============================] - 0s 4ms/step - loss: 7.1594\n",
            "Epoch 49/100\n",
            "103/103 [==============================] - 0s 4ms/step - loss: 7.1525\n",
            "Epoch 50/100\n",
            "103/103 [==============================] - 0s 4ms/step - loss: 7.1487\n",
            "Epoch 51/100\n",
            "103/103 [==============================] - 0s 3ms/step - loss: 7.1453\n",
            "Epoch 52/100\n",
            "103/103 [==============================] - 0s 2ms/step - loss: 7.1399\n",
            "Epoch 53/100\n",
            "103/103 [==============================] - 0s 2ms/step - loss: 7.1363\n",
            "Epoch 54/100\n",
            "103/103 [==============================] - 0s 3ms/step - loss: 7.1331\n",
            "Epoch 55/100\n",
            "103/103 [==============================] - 0s 2ms/step - loss: 7.1272\n",
            "Epoch 56/100\n",
            "103/103 [==============================] - 0s 3ms/step - loss: 7.1235\n",
            "Epoch 57/100\n",
            "103/103 [==============================] - 0s 3ms/step - loss: 7.1196\n",
            "Epoch 58/100\n",
            "103/103 [==============================] - 0s 2ms/step - loss: 7.1162\n",
            "Epoch 59/100\n",
            "103/103 [==============================] - 0s 2ms/step - loss: 7.1307\n",
            "Epoch 60/100\n",
            "103/103 [==============================] - 0s 1ms/step - loss: 7.1087\n",
            "Epoch 61/100\n",
            "103/103 [==============================] - 0s 2ms/step - loss: 7.1111\n",
            "Epoch 62/100\n",
            "103/103 [==============================] - 0s 2ms/step - loss: 7.1072\n",
            "Epoch 63/100\n",
            "103/103 [==============================] - 0s 2ms/step - loss: 7.1034\n",
            "Epoch 64/100\n",
            "103/103 [==============================] - 0s 2ms/step - loss: 7.0973\n",
            "Epoch 65/100\n",
            "103/103 [==============================] - 0s 2ms/step - loss: 7.0983\n",
            "Epoch 66/100\n",
            "103/103 [==============================] - 0s 2ms/step - loss: 7.0924\n",
            "Epoch 67/100\n",
            "103/103 [==============================] - 0s 2ms/step - loss: 7.0858\n",
            "Epoch 68/100\n",
            "103/103 [==============================] - 0s 2ms/step - loss: 7.0827\n",
            "Epoch 69/100\n",
            "103/103 [==============================] - 0s 2ms/step - loss: 7.0823\n",
            "Epoch 70/100\n",
            "103/103 [==============================] - 0s 2ms/step - loss: 7.0789\n",
            "Epoch 71/100\n",
            "103/103 [==============================] - 0s 2ms/step - loss: 7.0767\n",
            "Epoch 72/100\n",
            "103/103 [==============================] - 0s 2ms/step - loss: 7.0792\n",
            "Epoch 73/100\n",
            "103/103 [==============================] - 0s 2ms/step - loss: 7.0630\n",
            "Epoch 74/100\n",
            "103/103 [==============================] - 0s 2ms/step - loss: 7.0582\n",
            "Epoch 75/100\n",
            "103/103 [==============================] - 0s 2ms/step - loss: 7.0580\n",
            "Epoch 76/100\n",
            "103/103 [==============================] - 0s 2ms/step - loss: 7.0501\n",
            "Epoch 77/100\n",
            "103/103 [==============================] - 0s 2ms/step - loss: 7.0552\n",
            "Epoch 78/100\n",
            "103/103 [==============================] - 0s 2ms/step - loss: 7.0452\n",
            "Epoch 79/100\n",
            "103/103 [==============================] - 0s 2ms/step - loss: 7.0423\n",
            "Epoch 80/100\n",
            "103/103 [==============================] - 0s 2ms/step - loss: 7.0331\n",
            "Epoch 81/100\n",
            "103/103 [==============================] - 0s 2ms/step - loss: 7.0415\n",
            "Epoch 82/100\n",
            "103/103 [==============================] - 0s 2ms/step - loss: 7.0355\n",
            "Epoch 83/100\n",
            "103/103 [==============================] - 0s 2ms/step - loss: 7.0288\n",
            "Epoch 84/100\n",
            "103/103 [==============================] - 0s 2ms/step - loss: 7.0204\n",
            "Epoch 85/100\n",
            "103/103 [==============================] - 0s 2ms/step - loss: 7.0180\n",
            "Epoch 86/100\n",
            "103/103 [==============================] - 0s 2ms/step - loss: 7.0135\n",
            "Epoch 87/100\n",
            "103/103 [==============================] - 0s 2ms/step - loss: 7.0106\n",
            "Epoch 88/100\n",
            "103/103 [==============================] - 0s 2ms/step - loss: 7.0045\n",
            "Epoch 89/100\n",
            "103/103 [==============================] - 0s 2ms/step - loss: 7.0041\n",
            "Epoch 90/100\n",
            "103/103 [==============================] - 0s 2ms/step - loss: 6.9934\n",
            "Epoch 91/100\n",
            "103/103 [==============================] - 0s 2ms/step - loss: 6.9902\n",
            "Epoch 92/100\n",
            "103/103 [==============================] - 0s 2ms/step - loss: 6.9848\n",
            "Epoch 93/100\n",
            "103/103 [==============================] - 0s 2ms/step - loss: 6.9897\n",
            "Epoch 94/100\n",
            "103/103 [==============================] - 0s 2ms/step - loss: 6.9816\n",
            "Epoch 95/100\n",
            "103/103 [==============================] - 0s 2ms/step - loss: 6.9756\n",
            "Epoch 96/100\n",
            "103/103 [==============================] - 0s 2ms/step - loss: 6.9785\n",
            "Epoch 97/100\n",
            "103/103 [==============================] - 0s 2ms/step - loss: 6.9663\n",
            "Epoch 98/100\n",
            "103/103 [==============================] - 0s 2ms/step - loss: 6.9684\n",
            "Epoch 99/100\n",
            "103/103 [==============================] - 0s 2ms/step - loss: 6.9704\n",
            "Epoch 100/100\n",
            "103/103 [==============================] - 0s 2ms/step - loss: 6.9575\n",
            "26/26 [==============================] - 0s 1ms/step\n",
            "Nilai RMSE: 2.4786090441559825\n"
          ]
        }
      ]
    },
    {
      "cell_type": "code",
      "source": [
        "from sklearn.metrics import mean_squared_error\n",
        "\n",
        "# Menggunakan model yang sudah dilatih sebelumnya\n",
        "y_pred_val = model.predict(X_val)\n",
        "val_rmse = np.sqrt(mean_squared_error(y_val, y_pred_val))\n",
        "print(f'Validation RMSE: {val_rmse}')"
      ],
      "metadata": {
        "colab": {
          "base_uri": "https://localhost:8080/"
        },
        "id": "XQVrrMu3N7P7",
        "outputId": "a60c9475-c9d6-406f-8d3c-478293d58aae"
      },
      "execution_count": null,
      "outputs": [
        {
          "output_type": "stream",
          "name": "stdout",
          "text": [
            "3/3 [==============================] - 0s 3ms/step\n",
            "Validation RMSE: 1.6322697863864346\n"
          ]
        }
      ]
    },
    {
      "cell_type": "code",
      "source": [
        "from keras.layers import Input, Dense\n",
        "from keras.models import Model\n",
        "from sklearn.metrics import mean_squared_error\n",
        "from sklearn.model_selection import train_test_split\n",
        "import numpy as np\n",
        "\n",
        "# Memisahkan data menjadi data latih dan data uji\n",
        "X_train, X_test, y_train, y_test = train_test_split(X, y, test_size=0.2, random_state=42)\n",
        "\n",
        "# Definisi input layer\n",
        "inputs = Input(shape=(X_train.shape[1],))\n",
        "\n",
        "# Hidden layer\n",
        "hidden1 = Dense(10, activation='relu')(inputs)\n",
        "\n",
        "# Output layer\n",
        "outputs = Dense(1, activation='linear')(hidden1)\n",
        "\n",
        "# Membangun model\n",
        "model = Model(inputs=inputs, outputs=outputs)\n",
        "\n",
        "# Mengkompilasi model\n",
        "model.compile(loss='mean_squared_error', optimizer='adam')\n",
        "\n",
        "# Melatih model\n",
        "model.fit(X_train, y_train, epochs=100, batch_size=32, verbose=1)\n",
        "\n",
        "# Evaluasi model pada data uji\n",
        "y_pred = model.predict(X_test)\n",
        "test_rmse = np.sqrt(mean_squared_error(y_test, y_pred))\n",
        "print(f'Nilai RMSE: {test_rmse}')"
      ],
      "metadata": {
        "colab": {
          "base_uri": "https://localhost:8080/"
        },
        "id": "KK5D66dwOFhv",
        "outputId": "b66c8213-e2a0-401e-8f82-a4fa9d03e202"
      },
      "execution_count": null,
      "outputs": [
        {
          "output_type": "stream",
          "name": "stdout",
          "text": [
            "Epoch 1/100\n",
            "103/103 [==============================] - 1s 4ms/step - loss: 105.4096\n",
            "Epoch 2/100\n",
            "103/103 [==============================] - 0s 3ms/step - loss: 93.3408\n",
            "Epoch 3/100\n",
            "103/103 [==============================] - 0s 3ms/step - loss: 78.2105\n",
            "Epoch 4/100\n",
            "103/103 [==============================] - 0s 3ms/step - loss: 60.8901\n",
            "Epoch 5/100\n",
            "103/103 [==============================] - 0s 3ms/step - loss: 43.3719\n",
            "Epoch 6/100\n",
            "103/103 [==============================] - 1s 5ms/step - loss: 28.0402\n",
            "Epoch 7/100\n",
            "103/103 [==============================] - 0s 3ms/step - loss: 17.2092\n",
            "Epoch 8/100\n",
            "103/103 [==============================] - 0s 1ms/step - loss: 11.3293\n",
            "Epoch 9/100\n",
            "103/103 [==============================] - 0s 2ms/step - loss: 8.9003\n",
            "Epoch 10/100\n",
            "103/103 [==============================] - 0s 2ms/step - loss: 8.1421\n",
            "Epoch 11/100\n",
            "103/103 [==============================] - 0s 2ms/step - loss: 7.9612\n",
            "Epoch 12/100\n",
            "103/103 [==============================] - 0s 1ms/step - loss: 7.9163\n",
            "Epoch 13/100\n",
            "103/103 [==============================] - 0s 2ms/step - loss: 7.9006\n",
            "Epoch 14/100\n",
            "103/103 [==============================] - 0s 2ms/step - loss: 7.8913\n",
            "Epoch 15/100\n",
            "103/103 [==============================] - 0s 2ms/step - loss: 7.8698\n",
            "Epoch 16/100\n",
            "103/103 [==============================] - 0s 2ms/step - loss: 7.8379\n",
            "Epoch 17/100\n",
            "103/103 [==============================] - 0s 2ms/step - loss: 7.8116\n",
            "Epoch 18/100\n",
            "103/103 [==============================] - 0s 2ms/step - loss: 7.7825\n",
            "Epoch 19/100\n",
            "103/103 [==============================] - 0s 2ms/step - loss: 7.7488\n",
            "Epoch 20/100\n",
            "103/103 [==============================] - 0s 2ms/step - loss: 7.7217\n",
            "Epoch 21/100\n",
            "103/103 [==============================] - 0s 4ms/step - loss: 7.6902\n",
            "Epoch 22/100\n",
            "103/103 [==============================] - 0s 5ms/step - loss: 7.6628\n",
            "Epoch 23/100\n",
            "103/103 [==============================] - 0s 4ms/step - loss: 7.6346\n",
            "Epoch 24/100\n",
            "103/103 [==============================] - 0s 4ms/step - loss: 7.6049\n",
            "Epoch 25/100\n",
            "103/103 [==============================] - 0s 4ms/step - loss: 7.5780\n",
            "Epoch 26/100\n",
            "103/103 [==============================] - 0s 4ms/step - loss: 7.5485\n",
            "Epoch 27/100\n",
            "103/103 [==============================] - 0s 4ms/step - loss: 7.5242\n",
            "Epoch 28/100\n",
            "103/103 [==============================] - 0s 3ms/step - loss: 7.5031\n",
            "Epoch 29/100\n",
            "103/103 [==============================] - 0s 5ms/step - loss: 7.4723\n",
            "Epoch 30/100\n",
            "103/103 [==============================] - 0s 5ms/step - loss: 7.4536\n",
            "Epoch 31/100\n",
            "103/103 [==============================] - 1s 5ms/step - loss: 7.4304\n",
            "Epoch 32/100\n",
            "103/103 [==============================] - 0s 4ms/step - loss: 7.4114\n",
            "Epoch 33/100\n",
            "103/103 [==============================] - 0s 3ms/step - loss: 7.3921\n",
            "Epoch 34/100\n",
            "103/103 [==============================] - 0s 3ms/step - loss: 7.3757\n",
            "Epoch 35/100\n",
            "103/103 [==============================] - 0s 2ms/step - loss: 7.3546\n",
            "Epoch 36/100\n",
            "103/103 [==============================] - 0s 2ms/step - loss: 7.3463\n",
            "Epoch 37/100\n",
            "103/103 [==============================] - 0s 4ms/step - loss: 7.3321\n",
            "Epoch 38/100\n",
            "103/103 [==============================] - 0s 3ms/step - loss: 7.3128\n",
            "Epoch 39/100\n",
            "103/103 [==============================] - 0s 3ms/step - loss: 7.3053\n",
            "Epoch 40/100\n",
            "103/103 [==============================] - 0s 4ms/step - loss: 7.2919\n",
            "Epoch 41/100\n",
            "103/103 [==============================] - 0s 4ms/step - loss: 7.2776\n",
            "Epoch 42/100\n",
            "103/103 [==============================] - 0s 4ms/step - loss: 7.2773\n",
            "Epoch 43/100\n",
            "103/103 [==============================] - 0s 5ms/step - loss: 7.2619\n",
            "Epoch 44/100\n",
            "103/103 [==============================] - 0s 4ms/step - loss: 7.2535\n",
            "Epoch 45/100\n",
            "103/103 [==============================] - 0s 2ms/step - loss: 7.2523\n",
            "Epoch 46/100\n",
            "103/103 [==============================] - 0s 3ms/step - loss: 7.2379\n",
            "Epoch 47/100\n",
            "103/103 [==============================] - 0s 2ms/step - loss: 7.2342\n",
            "Epoch 48/100\n",
            "103/103 [==============================] - 0s 3ms/step - loss: 7.2286\n",
            "Epoch 49/100\n",
            "103/103 [==============================] - 0s 3ms/step - loss: 7.2241\n",
            "Epoch 50/100\n",
            "103/103 [==============================] - 0s 2ms/step - loss: 7.2158\n",
            "Epoch 51/100\n",
            "103/103 [==============================] - 0s 2ms/step - loss: 7.2120\n",
            "Epoch 52/100\n",
            "103/103 [==============================] - 0s 2ms/step - loss: 7.2003\n",
            "Epoch 53/100\n",
            "103/103 [==============================] - 0s 2ms/step - loss: 7.2060\n",
            "Epoch 54/100\n",
            "103/103 [==============================] - 0s 2ms/step - loss: 7.2023\n",
            "Epoch 55/100\n",
            "103/103 [==============================] - 0s 2ms/step - loss: 7.1986\n",
            "Epoch 56/100\n",
            "103/103 [==============================] - 0s 2ms/step - loss: 7.1906\n",
            "Epoch 57/100\n",
            "103/103 [==============================] - 0s 2ms/step - loss: 7.1891\n",
            "Epoch 58/100\n",
            "103/103 [==============================] - 0s 2ms/step - loss: 7.1918\n",
            "Epoch 59/100\n",
            "103/103 [==============================] - 0s 2ms/step - loss: 7.1862\n",
            "Epoch 60/100\n",
            "103/103 [==============================] - 0s 2ms/step - loss: 7.1847\n",
            "Epoch 61/100\n",
            "103/103 [==============================] - 0s 2ms/step - loss: 7.1851\n",
            "Epoch 62/100\n",
            "103/103 [==============================] - 0s 2ms/step - loss: 7.1781\n",
            "Epoch 63/100\n",
            "103/103 [==============================] - 0s 2ms/step - loss: 7.1701\n",
            "Epoch 64/100\n",
            "103/103 [==============================] - 0s 2ms/step - loss: 7.1745\n",
            "Epoch 65/100\n",
            "103/103 [==============================] - 0s 2ms/step - loss: 7.1757\n",
            "Epoch 66/100\n",
            "103/103 [==============================] - 0s 2ms/step - loss: 7.1710\n",
            "Epoch 67/100\n",
            "103/103 [==============================] - 0s 2ms/step - loss: 7.1679\n",
            "Epoch 68/100\n",
            "103/103 [==============================] - 0s 2ms/step - loss: 7.1669\n",
            "Epoch 69/100\n",
            "103/103 [==============================] - 0s 2ms/step - loss: 7.1675\n",
            "Epoch 70/100\n",
            "103/103 [==============================] - 0s 2ms/step - loss: 7.1644\n",
            "Epoch 71/100\n",
            "103/103 [==============================] - 0s 2ms/step - loss: 7.1622\n",
            "Epoch 72/100\n",
            "103/103 [==============================] - 0s 2ms/step - loss: 7.1642\n",
            "Epoch 73/100\n",
            "103/103 [==============================] - 0s 2ms/step - loss: 7.1575\n",
            "Epoch 74/100\n",
            "103/103 [==============================] - 0s 2ms/step - loss: 7.1585\n",
            "Epoch 75/100\n",
            "103/103 [==============================] - 0s 2ms/step - loss: 7.1486\n",
            "Epoch 76/100\n",
            "103/103 [==============================] - 0s 2ms/step - loss: 7.1648\n",
            "Epoch 77/100\n",
            "103/103 [==============================] - 0s 2ms/step - loss: 7.1515\n",
            "Epoch 78/100\n",
            "103/103 [==============================] - 0s 2ms/step - loss: 7.1451\n",
            "Epoch 79/100\n",
            "103/103 [==============================] - 0s 2ms/step - loss: 7.1533\n",
            "Epoch 80/100\n",
            "103/103 [==============================] - 0s 2ms/step - loss: 7.1460\n",
            "Epoch 81/100\n",
            "103/103 [==============================] - 0s 2ms/step - loss: 7.1400\n",
            "Epoch 82/100\n",
            "103/103 [==============================] - 0s 2ms/step - loss: 7.1340\n",
            "Epoch 83/100\n",
            "103/103 [==============================] - 0s 2ms/step - loss: 7.1529\n",
            "Epoch 84/100\n",
            "103/103 [==============================] - 0s 2ms/step - loss: 7.1408\n",
            "Epoch 85/100\n",
            "103/103 [==============================] - 0s 2ms/step - loss: 7.1399\n",
            "Epoch 86/100\n",
            "103/103 [==============================] - 0s 2ms/step - loss: 7.1352\n",
            "Epoch 87/100\n",
            "103/103 [==============================] - 0s 2ms/step - loss: 7.1337\n",
            "Epoch 88/100\n",
            "103/103 [==============================] - 0s 2ms/step - loss: 7.1329\n",
            "Epoch 89/100\n",
            "103/103 [==============================] - 0s 2ms/step - loss: 7.1308\n",
            "Epoch 90/100\n",
            "103/103 [==============================] - 0s 2ms/step - loss: 7.1318\n",
            "Epoch 91/100\n",
            "103/103 [==============================] - 0s 2ms/step - loss: 7.1281\n",
            "Epoch 92/100\n",
            "103/103 [==============================] - 0s 2ms/step - loss: 7.1275\n",
            "Epoch 93/100\n",
            "103/103 [==============================] - 0s 2ms/step - loss: 7.1288\n",
            "Epoch 94/100\n",
            "103/103 [==============================] - 0s 2ms/step - loss: 7.1181\n",
            "Epoch 95/100\n",
            "103/103 [==============================] - 0s 2ms/step - loss: 7.1266\n",
            "Epoch 96/100\n",
            "103/103 [==============================] - 0s 2ms/step - loss: 7.1163\n",
            "Epoch 97/100\n",
            "103/103 [==============================] - 0s 2ms/step - loss: 7.1152\n",
            "Epoch 98/100\n",
            "103/103 [==============================] - 0s 2ms/step - loss: 7.1171\n",
            "Epoch 99/100\n",
            "103/103 [==============================] - 0s 2ms/step - loss: 7.1096\n",
            "Epoch 100/100\n",
            "103/103 [==============================] - 0s 2ms/step - loss: 7.1143\n",
            "26/26 [==============================] - 0s 1ms/step\n",
            "Nilai RMSE: 2.492415106559208\n"
          ]
        }
      ]
    },
    {
      "cell_type": "markdown",
      "source": [
        "#KNN"
      ],
      "metadata": {
        "id": "1Yp87eitENsA"
      }
    },
    {
      "cell_type": "code",
      "source": [
        "#Scaling\n",
        "from sklearn.preprocessing import MinMaxScaler\n",
        "scaler = MinMaxScaler(feature_range=(0, 1))\n",
        "\n",
        "X_train_scaled = scaler.fit_transform(X_train)\n",
        "X_train = pd.DataFrame(X_train_scaled)\n",
        "\n",
        "X_test_scaled = scaler.fit_transform(X_test)\n",
        "X_test = pd.DataFrame(X_test_scaled)"
      ],
      "metadata": {
        "id": "nsoQMcjeEMZg"
      },
      "execution_count": null,
      "outputs": []
    },
    {
      "cell_type": "code",
      "source": [
        "#import required packages\n",
        "from sklearn import neighbors\n",
        "from sklearn.metrics import mean_squared_error \n",
        "from math import sqrt\n",
        "import matplotlib.pyplot as plt\n",
        "%matplotlib inline"
      ],
      "metadata": {
        "id": "i74Kui_vEb0_"
      },
      "execution_count": null,
      "outputs": []
    },
    {
      "cell_type": "code",
      "source": [
        "rmse_val = [] #to store rmse values for different k\n",
        "for K in range(20):\n",
        "    K = K+1\n",
        "    model = neighbors.KNeighborsRegressor(n_neighbors = K)\n",
        "\n",
        "    model.fit(X_train, y_train)  #fit the model\n",
        "    pred=model.predict(X_test) #make prediction on test set\n",
        "    error = sqrt(mean_squared_error(y_test,pred)) #calculate rmse\n",
        "    rmse_val.append(error) #store rmse values\n",
        "    print('RMSE value for k= ' , K , 'is:', error)"
      ],
      "metadata": {
        "colab": {
          "base_uri": "https://localhost:8080/"
        },
        "id": "yfsLpjjIEkB6",
        "outputId": "a869421f-d7e7-4034-f756-7d82ed11a07c"
      },
      "execution_count": null,
      "outputs": [
        {
          "output_type": "stream",
          "name": "stdout",
          "text": [
            "RMSE value for k=  1 is: 3.1328316498563185\n",
            "RMSE value for k=  2 is: 3.2296265735960943\n",
            "RMSE value for k=  3 is: 3.2014563081861565\n",
            "RMSE value for k=  4 is: 3.2581745225681504\n",
            "RMSE value for k=  5 is: 3.2810319613967973\n",
            "RMSE value for k=  6 is: 3.3390195403014493\n",
            "RMSE value for k=  7 is: 3.4244385659965806\n",
            "RMSE value for k=  8 is: 3.432532441713353\n",
            "RMSE value for k=  9 is: 3.45718859276929\n",
            "RMSE value for k=  10 is: 3.4771413826765736\n",
            "RMSE value for k=  11 is: 3.4867387784303947\n",
            "RMSE value for k=  12 is: 3.5241160070911848\n",
            "RMSE value for k=  13 is: 3.5163371468465554\n",
            "RMSE value for k=  14 is: 3.5227006840643185\n",
            "RMSE value for k=  15 is: 3.510557055526715\n",
            "RMSE value for k=  16 is: 3.554051010089342\n",
            "RMSE value for k=  17 is: 3.5760217380505694\n",
            "RMSE value for k=  18 is: 3.6210962637244664\n",
            "RMSE value for k=  19 is: 3.679321898731362\n",
            "RMSE value for k=  20 is: 3.687075316594971\n"
          ]
        }
      ]
    },
    {
      "cell_type": "code",
      "source": [
        "#plotting the rmse values against k values\n",
        "curve = pd.DataFrame(rmse_val) #elbow curve \n",
        "curve.plot()"
      ],
      "metadata": {
        "colab": {
          "base_uri": "https://localhost:8080/",
          "height": 448
        },
        "id": "1fpOYLcSEwNy",
        "outputId": "8ecc66fd-5056-46c2-b084-ac03e5b445b8"
      },
      "execution_count": null,
      "outputs": [
        {
          "output_type": "execute_result",
          "data": {
            "text/plain": [
              "<Axes: >"
            ]
          },
          "metadata": {},
          "execution_count": 20
        },
        {
          "output_type": "display_data",
          "data": {
            "text/plain": [
              "<Figure size 640x480 with 1 Axes>"
            ],
            "image/png": "[encoded data removed]"
          },
          "metadata": {}
        }
      ]
    }
  ]
}